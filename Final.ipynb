{
 "cells": [
  {
   "cell_type": "code",
   "execution_count": 2,
   "id": "e5c19dd5",
   "metadata": {},
   "outputs": [
    {
     "name": "stdout",
     "output_type": "stream",
     "text": [
      "5216\n",
      "624\n",
      "Model: \"sequential\"\n",
      "_________________________________________________________________\n",
      " Layer (type)                Output Shape              Param #   \n",
      "=================================================================\n",
      " conv2d (Conv2D)             (None, 78, 78, 128)       1280      \n",
      "                                                                 \n",
      " conv2d_1 (Conv2D)           (None, 76, 76, 128)       147584    \n",
      "                                                                 \n",
      " max_pooling2d (MaxPooling2D  (None, 38, 38, 128)      0         \n",
      " )                                                               \n",
      "                                                                 \n",
      " conv2d_2 (Conv2D)           (None, 36, 36, 128)       147584    \n",
      "                                                                 \n",
      " dropout (Dropout)           (None, 36, 36, 128)       0         \n",
      "                                                                 \n",
      " max_pooling2d_1 (MaxPooling  (None, 18, 18, 128)      0         \n",
      " 2D)                                                             \n",
      "                                                                 \n",
      " conv2d_3 (Conv2D)           (None, 16, 16, 128)       147584    \n",
      "                                                                 \n",
      " conv2d_4 (Conv2D)           (None, 14, 14, 128)       147584    \n",
      "                                                                 \n",
      " max_pooling2d_2 (MaxPooling  (None, 4, 4, 128)        0         \n",
      " 2D)                                                             \n",
      "                                                                 \n",
      " dropout_1 (Dropout)         (None, 4, 4, 128)         0         \n",
      "                                                                 \n",
      " flatten (Flatten)           (None, 2048)              0         \n",
      "                                                                 \n",
      " dense (Dense)               (None, 64)                131136    \n",
      "                                                                 \n",
      " dense_1 (Dense)             (None, 1)                 65        \n",
      "                                                                 \n",
      "=================================================================\n",
      "Total params: 722,817\n",
      "Trainable params: 722,817\n",
      "Non-trainable params: 0\n",
      "_________________________________________________________________\n",
      "Epoch 1/10\n",
      "163/163 [==============================] - 134s 819ms/step - loss: 0.4911 - accuracy: 0.7811 - val_loss: 0.5665 - val_accuracy: 0.7244\n",
      "Epoch 2/10\n",
      "163/163 [==============================] - 151s 926ms/step - loss: 0.2464 - accuracy: 0.9003 - val_loss: 0.4791 - val_accuracy: 0.7564\n",
      "Epoch 3/10\n",
      "163/163 [==============================] - 152s 933ms/step - loss: 0.2043 - accuracy: 0.9218 - val_loss: 0.4742 - val_accuracy: 0.7500\n",
      "Epoch 4/10\n",
      "163/163 [==============================] - 155s 953ms/step - loss: 0.1683 - accuracy: 0.9354 - val_loss: 0.4638 - val_accuracy: 0.7564\n",
      "Epoch 5/10\n",
      "163/163 [==============================] - 215s 1s/step - loss: 0.1506 - accuracy: 0.9404 - val_loss: 0.5125 - val_accuracy: 0.7949\n",
      "Epoch 6/10\n",
      "163/163 [==============================] - 185s 1s/step - loss: 0.1424 - accuracy: 0.9442 - val_loss: 0.5507 - val_accuracy: 0.7788\n",
      "Epoch 7/10\n",
      "163/163 [==============================] - 164s 1s/step - loss: 0.1198 - accuracy: 0.9561 - val_loss: 0.4946 - val_accuracy: 0.7837\n",
      "Epoch 8/10\n",
      "163/163 [==============================] - 164s 1s/step - loss: 0.1212 - accuracy: 0.9567 - val_loss: 0.5121 - val_accuracy: 0.7788\n",
      "Epoch 9/10\n",
      "163/163 [==============================] - 157s 962ms/step - loss: 0.1105 - accuracy: 0.9584 - val_loss: 0.6585 - val_accuracy: 0.7196\n",
      "Epoch 10/10\n",
      "163/163 [==============================] - 158s 972ms/step - loss: 0.1010 - accuracy: 0.9594 - val_loss: 0.8653 - val_accuracy: 0.7260\n"
     ]
    },
    {
     "data": {
      "image/png": "[encoded data removed]",
      "text/plain": [
       "<Figure size 432x288 with 1 Axes>"
      ]
     },
     "metadata": {
      "needs_background": "light"
     },
     "output_type": "display_data"
    }
   ],
   "source": [
    "import numpy as np\n",
    "import matplotlib.pyplot as plt\n",
    "import cv2\n",
    "import os\n",
    "from keras.layers import Dense,Dropout,Activation,Flatten,Conv2D,MaxPooling2D\n",
    "import tensorflow as tf\n",
    "from tensorflow.keras.datasets import mnist\n",
    "from tensorflow.keras.models import Sequential\n",
    "from tensorflow.keras.layers import Dense, Dropout\n",
    "from tensorflow.keras import models \n",
    "from tensorflow.keras import layers\n",
    "\n",
    "\n",
    "\n",
    "\n",
    "\n",
    "directory1 = 'C:/Users/User/Documents/applied/Final/chest_xray/train'\n",
    "Catagory=[\"NORMAL\",\"PNEUMONIA\"]\n",
    "\n",
    "for catagory in Catagory:\n",
    "    path= os.path.join(directory1,catagory)\n",
    "    for img in os.listdir(path):\n",
    "        Training_data=cv2.imread(os.path.join(path,img),cv2.IMREAD_GRAYSCALE)\n",
    "\n",
    "plt.imshow(Training_data,cmap=\"gray\")\n",
    "plt.show\n",
    "\n",
    "directory2 = 'C:/Users/User/Documents/applied/Final/chest_xray/test'\n",
    "Catagory2=[\"NORMAL\",\"PNEUMONIA\"]\n",
    "\n",
    "for catagory2 in Catagory2:\n",
    "    path2= os.path.join(directory2,catagory2)\n",
    "    for img2 in os.listdir(path2):\n",
    "        testing_data=cv2.imread(os.path.join(path2,img2),cv2.IMREAD_GRAYSCALE)\n",
    "        break\n",
    "    break\n",
    "\n",
    "plt.imshow(testing_data,cmap=\"gray\")\n",
    "plt.show\n",
    "\n",
    "Img_size=80\n",
    "new_Training_data=cv2.resize(Training_data,(Img_size,Img_size))\n",
    "plt.imshow(new_Training_data,cmap=\"gray\")\n",
    "plt.show\n",
    "\n",
    "\n",
    "new_Testing_data=cv2.resize(testing_data,(Img_size,Img_size))\n",
    "plt.imshow(new_Testing_data,cmap=\"gray\")\n",
    "plt.show\n",
    "\n",
    "train_data=[]\n",
    "\n",
    "\n",
    "def creating_training_data():\n",
    "      for catagory in Catagory:\n",
    "            path= os.path.join(directory1,catagory)\n",
    "            class_num=Catagory.index(catagory)\n",
    "            for img in os.listdir(path):\n",
    "                Training_data=cv2.imread(os.path.join(path,img),cv2.IMREAD_GRAYSCALE)\n",
    "                new_Training_data=cv2.resize(Training_data,(Img_size,Img_size))\n",
    "                train_data.append([new_Training_data,class_num])\n",
    "           \n",
    "\n",
    "creating_training_data()\n",
    "\n",
    "print(len(train_data))\n",
    "\n",
    "import random\n",
    "random.shuffle(train_data)\n",
    "\n",
    "X=[]\n",
    "Y=[]\n",
    "\n",
    "for features, label in train_data:\n",
    "    X.append(features)\n",
    "    Y.append(label)\n",
    "X = np.array(X)\n",
    "Y = np.array(Y)\n",
    "X = X.reshape(-1, 80, 80, 1)\n",
    "\n",
    "\n",
    "\n",
    "\n",
    "Test_data=[]\n",
    "\n",
    "\n",
    "def creating_testing_data():\n",
    "        for catagory2 in Catagory2:\n",
    "            path2= os.path.join(directory2,catagory2)\n",
    "            class_num2=Catagory2.index(catagory2)\n",
    "            for img2 in os.listdir(path2):\n",
    "                testing_data=cv2.imread(os.path.join(path2,img2),cv2.IMREAD_GRAYSCALE)\n",
    "                new_Testing_data=cv2.resize(testing_data,(Img_size,Img_size))\n",
    "                Test_data.append([new_Testing_data,class_num2])\n",
    "\n",
    "creating_testing_data()\n",
    "\n",
    "print(len(Test_data))\n",
    "\n",
    "import random\n",
    "random.shuffle(Test_data)\n",
    "\n",
    "x_test=[]\n",
    "y_test=[]\n",
    "\n",
    "for features, label in Test_data:\n",
    "    x_test.append(features)\n",
    "    y_test.append(label)\n",
    "x_test = np.array(x_test)\n",
    "y_test = np.array(y_test)\n",
    "x_test = x_test.reshape(-1, 80, 80, 1)\n",
    "\n",
    "x_test\n",
    "\n",
    "y_test\n",
    "\n",
    "\n",
    "\n",
    "\n",
    "\n",
    "#scale the data\n",
    "X=X/255.0\n",
    "x_test=x_test/255.0\n",
    "\n",
    "from tensorflow.keras.models import Sequential\n",
    "from tensorflow.keras.layers import Conv2D, MaxPooling2D\n",
    "\n",
    "# Define a sequential model\n",
    "model = Sequential()\n",
    "\n",
    "# Add a convolutional layer\n",
    "model.add(Conv2D(128, (3, 3), activation='relu', input_shape=X.shape[1:]))\n",
    "model.add(Conv2D(128, (3, 3), activation='relu'))\n",
    "\n",
    "model.add(MaxPooling2D(pool_size=(2, 2)))\n",
    "model.add(Conv2D(128, (3, 3), activation='relu'))\n",
    "model.add(Dropout(0.6))\n",
    "model.add(MaxPooling2D(pool_size=(2, 2)))\n",
    "model.add(Conv2D(128, (3, 3), activation='relu'))\n",
    "model.add(Conv2D(128, (3, 3), activation='relu'))\n",
    "model.add(MaxPooling2D(pool_size=(3, 3)))\n",
    "model.add(Dropout(0.7))\n",
    "model.add(layers.Flatten())\n",
    "model.add(layers.Dense(64, activation='relu'))\n",
    "model.add(Dense(1, activation='sigmoid'))\n",
    "\n",
    "\n",
    "\n",
    "\n",
    "\n",
    "\n",
    "\n",
    "# Compile the model\n",
    "model.compile(optimizer='adam',\n",
    "              loss='binary_crossentropy',\n",
    "              metrics=['accuracy'])\n",
    "\n",
    "model.summary()\n",
    "# Train the model\n",
    "\n",
    "history = model.fit(X, Y, epochs=10,batch_size=32,\n",
    "                    validation_data=(x_test, y_test))\n"
   ]
  },
  {
   "cell_type": "code",
   "execution_count": 3,
   "id": "3c333beb",
   "metadata": {},
   "outputs": [
    {
     "data": {
      "image/png": "[encoded data removed]",
      "text/plain": [
       "<Figure size 432x288 with 1 Axes>"
      ]
     },
     "metadata": {
      "needs_background": "light"
     },
     "output_type": "display_data"
    }
   ],
   "source": [
    "# Plot the training and validation accuracy\n",
    "plt.plot(history.history['accuracy'])\n",
    "plt.plot(history.history['val_accuracy'])\n",
    "plt.title('Model Accuracy')\n",
    "plt.ylabel('Accuracy')\n",
    "plt.xlabel('Epoch')\n",
    "plt.ylim([0, 1])\n",
    "plt.legend(['Train', 'Test'], loc='upper left')\n",
    "plt.show()"
   ]
  },
  {
   "cell_type": "markdown",
   "id": "09713174",
   "metadata": {},
   "source": [
    "<h2>resnet"
   ]
  },
  {
   "cell_type": "code",
   "execution_count": null,
   "id": "2c01a046",
   "metadata": {},
   "outputs": [],
   "source": []
  },
  {
   "cell_type": "code",
   "execution_count": 62,
   "id": "1ae74638",
   "metadata": {},
   "outputs": [],
   "source": [
    "X = np.array(X)\n",
    "Y = np.array(Y)\n",
    "X = X.reshape(-1, 80, 80, 1)\n"
   ]
  },
  {
   "cell_type": "code",
   "execution_count": 67,
   "id": "a2f9c4a9",
   "metadata": {},
   "outputs": [
    {
     "name": "stdout",
     "output_type": "stream",
     "text": [
      "Model: \"model_2\"\n",
      "_________________________________________________________________\n",
      " Layer (type)                Output Shape              Param #   \n",
      "=================================================================\n",
      " input_6 (InputLayer)        [(None, 80, 80, 3)]       0         \n",
      "                                                                 \n",
      " resnet50 (Functional)       (None, None, None, 2048)  23587712  \n",
      "                                                                 \n",
      " global_max_pooling2d_2 (Glo  (None, 2048)             0         \n",
      " balMaxPooling2D)                                                \n",
      "                                                                 \n",
      " dense_26 (Dense)            (None, 256)               524544    \n",
      "                                                                 \n",
      " dense_27 (Dense)            (None, 1)                 257       \n",
      "                                                                 \n",
      "=================================================================\n",
      "Total params: 24,112,513\n",
      "Trainable params: 24,059,393\n",
      "Non-trainable params: 53,120\n",
      "_________________________________________________________________\n"
     ]
    }
   ],
   "source": [
    "import tensorflow as tf\n",
    "from tensorflow.keras.applications import ResNet50\n",
    "from tensorflow.keras.layers import Dense\n",
    "from tensorflow.keras.models import Model\n",
    "\n",
    "# Define the input shape\n",
    "input_shape = X_rgb.shape[1:] \n",
    "\n",
    "# Create the input layer\n",
    "inputs = tf.keras.Input(shape=input_shape)\n",
    "\n",
    "# Load the pre-trained ResNet50 model without the top classification layer\n",
    "base_model = ResNet50(weights='imagenet', include_top=False)\n",
    "\n",
    "# Pass the inputs through the base ResNet50 model\n",
    "x1 = base_model(inputs)\n",
    "\n",
    "x1 = tf.keras.layers.GlobalMaxPooling2D()(x1)\n",
    "\n",
    "\n",
    "# Add a fully-connected layer with the desired number of units\n",
    "num_units = 256  # Replace with your desired number of units\n",
    "x1 = Dense(num_units, activation='relu')(x1)\n",
    "\n",
    "# Add the final output layer with the desired number of classes\n",
    "num_classes = 1  # Replace with your desired number of output classes\n",
    "outputs = Dense(num_classes, activation='sigmoid')(x1)\n",
    "\n",
    "# Create the model with inputs and outputs\n",
    "model = Model(inputs=inputs, outputs=outputs)\n",
    "\n",
    "# Print the model summary\n",
    "model.summary()\n"
   ]
  },
  {
   "cell_type": "code",
   "execution_count": 68,
   "id": "9f95c87c",
   "metadata": {},
   "outputs": [
    {
     "name": "stdout",
     "output_type": "stream",
     "text": [
      "163/163 [==============================] - 29s 176ms/step\n"
     ]
    }
   ],
   "source": [
    "x = base_model.predict(X_rgb)\n"
   ]
  },
  {
   "cell_type": "code",
   "execution_count": null,
   "id": "c63736fa",
   "metadata": {},
   "outputs": [],
   "source": []
  },
  {
   "cell_type": "code",
   "execution_count": 65,
   "id": "3c624b1e",
   "metadata": {},
   "outputs": [],
   "source": [
    "X = X.reshape(-1, 80, 80, 1)"
   ]
  },
  {
   "cell_type": "code",
   "execution_count": 66,
   "id": "e9df1fab",
   "metadata": {},
   "outputs": [],
   "source": [
    "X_rgb = np.repeat(X, 3, axis=-1)"
   ]
  },
  {
   "cell_type": "code",
   "execution_count": 7,
   "id": "27520ef9",
   "metadata": {},
   "outputs": [
    {
     "data": {
      "text/plain": [
       "(5216, 80, 80, 3)"
      ]
     },
     "execution_count": 7,
     "metadata": {},
     "output_type": "execute_result"
    }
   ],
   "source": []
  },
  {
   "cell_type": "code",
   "execution_count": 52,
   "id": "795bce69",
   "metadata": {},
   "outputs": [],
   "source": [
    "model.compile(optimizer='adam', loss='binary_crossentropy', metrics=['accuracy'])"
   ]
  },
  {
   "cell_type": "code",
   "execution_count": 56,
   "id": "d4bf1dc8",
   "metadata": {},
   "outputs": [
    {
     "name": "stdout",
     "output_type": "stream",
     "text": [
      "Epoch 1/12\n",
      "402/402 [==============================] - 234s 579ms/step - loss: 0.0819 - accuracy: 0.9724 - val_loss: 0.4075 - val_accuracy: 0.8301\n",
      "Epoch 2/12\n",
      "402/402 [==============================] - 240s 597ms/step - loss: 0.0716 - accuracy: 0.9760 - val_loss: 1.1152 - val_accuracy: 0.7516\n",
      "Epoch 3/12\n",
      "402/402 [==============================] - 241s 600ms/step - loss: 0.0623 - accuracy: 0.9778 - val_loss: 0.3997 - val_accuracy: 0.8558\n",
      "Epoch 4/12\n",
      "402/402 [==============================] - 245s 610ms/step - loss: 0.0585 - accuracy: 0.9776 - val_loss: 0.7773 - val_accuracy: 0.7532\n",
      "Epoch 5/12\n",
      "402/402 [==============================] - 267s 664ms/step - loss: 0.0532 - accuracy: 0.9801 - val_loss: 5.6898 - val_accuracy: 0.6378\n",
      "Epoch 6/12\n",
      "402/402 [==============================] - 271s 674ms/step - loss: 0.0622 - accuracy: 0.9762 - val_loss: 1.0423 - val_accuracy: 0.6971\n",
      "Epoch 7/12\n",
      "402/402 [==============================] - 269s 670ms/step - loss: 0.0626 - accuracy: 0.9762 - val_loss: 2.9196 - val_accuracy: 0.6619\n",
      "Epoch 8/12\n",
      "402/402 [==============================] - 264s 657ms/step - loss: 0.0444 - accuracy: 0.9837 - val_loss: 0.5818 - val_accuracy: 0.8253\n",
      "Epoch 9/12\n",
      "402/402 [==============================] - 261s 649ms/step - loss: 0.0513 - accuracy: 0.9837 - val_loss: 1.5790 - val_accuracy: 0.6731\n",
      "Epoch 10/12\n",
      "402/402 [==============================] - 253s 628ms/step - loss: 0.0467 - accuracy: 0.9827 - val_loss: 0.9018 - val_accuracy: 0.7804\n",
      "Epoch 11/12\n",
      "402/402 [==============================] - 257s 640ms/step - loss: 0.0353 - accuracy: 0.9866 - val_loss: 2.0183 - val_accuracy: 0.6811\n",
      "Epoch 12/12\n",
      "402/402 [==============================] - 260s 647ms/step - loss: 0.0880 - accuracy: 0.9689 - val_loss: 1.3958 - val_accuracy: 0.7692\n",
      "20/20 [==============================] - 5s 251ms/step - loss: 1.3958 - accuracy: 0.7692\n",
      "Test Loss: 1.3957884311676025\n",
      "Test Accuracy: 0.7692307829856873\n"
     ]
    }
   ],
   "source": [
    "history2 = model.fit(X_rgb, Y, epochs=12,batch_size=13,\n",
    "                    validation_data=(x_test_rgb, y_test))\n",
    "# Evaluate the model on the test set\n",
    "test_loss, test_accuracy = model.evaluate(x_test_rgb, y_test)\n",
    "print('Test Loss:', test_loss)\n",
    "print('Test Accuracy:', test_accuracy)\n",
    "\n"
   ]
  },
  {
   "cell_type": "code",
   "execution_count": 8,
   "id": "2a9710df",
   "metadata": {},
   "outputs": [],
   "source": [
    "x_test_rgb = np.repeat(x_test, 3, axis=-1)\n"
   ]
  },
  {
   "cell_type": "code",
   "execution_count": 9,
   "id": "a0c0effa",
   "metadata": {},
   "outputs": [
    {
     "data": {
      "text/plain": [
       "(624, 80, 80, 3)"
      ]
     },
     "execution_count": 9,
     "metadata": {},
     "output_type": "execute_result"
    }
   ],
   "source": [
    "x_test_rgb.shape"
   ]
  },
  {
   "cell_type": "code",
   "execution_count": 22,
   "id": "a7507876",
   "metadata": {},
   "outputs": [
    {
     "data": {
      "image/png": "[encoded data removed]",
      "text/plain": [
       "<Figure size 432x288 with 1 Axes>"
      ]
     },
     "metadata": {
      "needs_background": "light"
     },
     "output_type": "display_data"
    }
   ],
   "source": [
    "# Plot the training and validation accuracy\n",
    "plt.plot(history2.history['accuracy'])\n",
    "plt.plot(history2.history['val_accuracy'])\n",
    "plt.title('Model Accuracy')\n",
    "plt.ylabel('Accuracy')\n",
    "plt.xlabel('Epoch')\n",
    "plt.ylim([0, 1])\n",
    "plt.legend(['Train', 'Test'], loc='upper left')\n",
    "plt.show()"
   ]
  },
  {
   "cell_type": "code",
   "execution_count": null,
   "id": "4094055e",
   "metadata": {},
   "outputs": [],
   "source": []
  },
  {
   "cell_type": "code",
   "execution_count": null,
   "id": "81815791",
   "metadata": {},
   "outputs": [],
   "source": []
  },
  {
   "cell_type": "code",
   "execution_count": null,
   "id": "c4cdbc5f",
   "metadata": {},
   "outputs": [],
   "source": []
  },
  {
   "cell_type": "markdown",
   "id": "4cdeb86e",
   "metadata": {},
   "source": [
    "<h2> DNN"
   ]
  },
  {
   "cell_type": "code",
   "execution_count": 50,
   "id": "bf5a448c",
   "metadata": {},
   "outputs": [
    {
     "name": "stdout",
     "output_type": "stream",
     "text": [
      "Epoch 1/10\n",
      "348/348 [==============================] - 3s 6ms/step - loss: 0.2956 - accuracy: 0.8827 - val_loss: 0.7257 - val_accuracy: 0.7276\n",
      "Epoch 2/10\n",
      "348/348 [==============================] - 2s 6ms/step - loss: 0.1659 - accuracy: 0.9383 - val_loss: 0.7528 - val_accuracy: 0.7468\n",
      "Epoch 3/10\n",
      "348/348 [==============================] - 2s 6ms/step - loss: 0.1589 - accuracy: 0.9369 - val_loss: 1.1801 - val_accuracy: 0.6923\n",
      "Epoch 4/10\n",
      "348/348 [==============================] - 2s 6ms/step - loss: 0.1325 - accuracy: 0.9496 - val_loss: 0.7964 - val_accuracy: 0.7516\n",
      "Epoch 5/10\n",
      "348/348 [==============================] - 2s 6ms/step - loss: 0.1288 - accuracy: 0.9540 - val_loss: 1.5132 - val_accuracy: 0.6795\n",
      "Epoch 6/10\n",
      "348/348 [==============================] - 2s 6ms/step - loss: 0.1244 - accuracy: 0.9534 - val_loss: 0.9040 - val_accuracy: 0.7276\n",
      "Epoch 7/10\n",
      "348/348 [==============================] - 2s 6ms/step - loss: 0.1293 - accuracy: 0.9496 - val_loss: 0.6851 - val_accuracy: 0.7724\n",
      "Epoch 8/10\n",
      "348/348 [==============================] - 2s 6ms/step - loss: 0.1227 - accuracy: 0.9551 - val_loss: 0.9470 - val_accuracy: 0.7260\n",
      "Epoch 9/10\n",
      "348/348 [==============================] - 2s 6ms/step - loss: 0.1190 - accuracy: 0.9544 - val_loss: 0.8697 - val_accuracy: 0.7340\n",
      "Epoch 10/10\n",
      "348/348 [==============================] - 2s 6ms/step - loss: 0.1148 - accuracy: 0.9567 - val_loss: 0.3784 - val_accuracy: 0.8333\n",
      "20/20 [==============================] - 0s 2ms/step - loss: 0.3784 - accuracy: 0.8333\n",
      "Test Loss: 0.37843504548072815\n",
      "Test Accuracy: 0.8333333134651184\n"
     ]
    }
   ],
   "source": [
    "import tensorflow as tf\n",
    "from tensorflow.keras import layers\n",
    "\n",
    "model_3 = Sequential([\n",
    "    Flatten(input_shape=X.shape[1:]),\n",
    "    Dense(64, activation='relu'),\n",
    "    Dense(64, activation='relu'),\n",
    "    Dense(64, activation='relu'),\n",
    "    Dense(32, activation='relu'),\n",
    "    Dense(1, activation='sigmoid')\n",
    "])\n",
    "# Compile the model\n",
    "model_3.compile(optimizer='adam',\n",
    "              loss='binary_crossentropy',\n",
    "              metrics=['accuracy'])\n",
    "\n",
    "\n",
    "# Train the model\n",
    "model_3.fit(X, Y, epochs=10, validation_data=(x_test, y_test),batch_size=15)\n",
    "\n",
    "# Evaluate the model on the test set\n",
    "test_loss, test_accuracy = model_3.evaluate(x_test, y_test)\n",
    "print('Test Loss:', test_loss)\n",
    "print('Test Accuracy:', test_accuracy)\n"
   ]
  },
  {
   "cell_type": "code",
   "execution_count": null,
   "id": "62b9df50",
   "metadata": {},
   "outputs": [],
   "source": []
  },
  {
   "cell_type": "code",
   "execution_count": null,
   "id": "2c51e664",
   "metadata": {},
   "outputs": [],
   "source": []
  },
  {
   "cell_type": "code",
   "execution_count": null,
   "id": "c62e639c",
   "metadata": {},
   "outputs": [],
   "source": []
  }
 ],
 "metadata": {
  "kernelspec": {
   "display_name": "Python 3 (ipykernel)",
   "language": "python",
   "name": "python3"
  },
  "language_info": {
   "codemirror_mode": {
    "name": "ipython",
    "version": 3
   },
   "file_extension": ".py",
   "mimetype": "text/x-python",
   "name": "python",
   "nbconvert_exporter": "python",
   "pygments_lexer": "ipython3",
   "version": "3.9.7"
  }
 },
 "nbformat": 4,
 "nbformat_minor": 5
}
